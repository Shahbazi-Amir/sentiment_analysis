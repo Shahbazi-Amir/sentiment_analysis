{
 "cells": [
  {
   "cell_type": "code",
   "execution_count": null,
   "id": "713a5265",
   "metadata": {},
   "outputs": [],
   "source": [
    "import pandas as pd\n",
    "\n",
    "file_path = 'dataset/training.1600000.processed.noemoticon.csv'\n",
    "\n",
    "try:\n",
    "    df = pd.read_csv(file_path, header=None, encoding='latin1')\n",
    "    df.columns = ['sentiment', 'id', 'date', 'query', 'user', 'text']\n",
    "    print(\"فایل با موفقیت بارگیری شد (از پوشه 'data'):\")\n",
    "    print(df.head())\n",
    "    print(df.info())\n",
    "except FileNotFoundError:\n",
    "    print(f\"خطا: فایل '{file_path}' یافت نشد. لطفاً از صحت نام پوشه ('data') و نام فایل ('training.1600000.processed.noemoticon') اطمینان حاصل کنید.\")\n",
    "except Exception as e:\n",
    "    print(f\"یک خطای غیرمنتظره رخ داد: {e}\")"
   ]
  },
  {
   "cell_type": "code",
   "execution_count": null,
   "id": "38f42811",
   "metadata": {},
   "outputs": [],
   "source": [
    "import pandas as pd\n",
    "\n",
    "file_path = 'dataset/training.1600000.processed.noemoticon.csv'\n",
    "\n",
    "try:\n",
    "    df = pd.read_csv(file_path, header=None, encoding='latin1', skiprows=[0]) # skiprows=[0] برای حذف ردیف اول\n",
    "    df.columns = ['sentiment', 'id', 'date', 'query', 'user', 'text']\n",
    "    print(\"فایل با موفقیت بارگیری شد (با حذف ردیف اول و تعیین سرستون):\")\n",
    "    print(df.head())\n",
    "    print(df.info())\n",
    "    print(\"\\n--------------------\\n\")\n",
    "    print(\"تعداد مقادیر منحصربه‌فرد در ستون احساس:\")\n",
    "    print(df['sentiment'].value_counts())\n",
    "    print(\"\\n--------------------\\n\")\n",
    "    print(\"نوع داده‌های هر ستون:\")\n",
    "    print(df.dtypes)\n",
    "except FileNotFoundError:\n",
    "    print(f\"خطا: فایل '{file_path}' یافت نشد.\")\n",
    "except Exception as e:\n",
    "    print(f\"یک خطای غیرمنتظره رخ داد: {e}\")"
   ]
  },
  {
   "cell_type": "code",
   "execution_count": null,
   "id": "31e6d784",
   "metadata": {},
   "outputs": [],
   "source": [
    "# اجرای خط مورد نظر شما\n",
    "df['text_lower'] = df['text'].str.lower()\n",
    "\n",
    "# نمایش چند سطر اول برای بررسی\n",
    "print(df[['text', 'text_lower']].head())"
   ]
  },
  {
   "cell_type": "code",
   "execution_count": 4,
   "id": "46391a8c",
   "metadata": {},
   "outputs": [
    {
     "name": "stdout",
     "output_type": "stream",
     "text": [
      "!\"#$%&'()*+,-./:;<=>?@[\\]^_`{|}~\n"
     ]
    }
   ],
   "source": [
    "import string\n",
    "print(string.punctuation)"
   ]
  },
  {
   "cell_type": "code",
   "execution_count": 5,
   "id": "767afac1",
   "metadata": {},
   "outputs": [
    {
     "name": "stdout",
     "output_type": "stream",
     "text": [
      "متن اصلی: این یک متن نمونه با علائم نگارشی!؟،.\n",
      "متن بدون علائم نگارشی: این یک متن نمونه با علائم نگارشی؟،\n"
     ]
    }
   ],
   "source": [
    "def remove_punctuation(text):\n",
    "    translator = str.maketrans('', '', string.punctuation)\n",
    "    return text.translate(translator)\n",
    "\n",
    "test_text = \"این یک متن نمونه با علائم نگارشی!؟،.\"\n",
    "cleaned_text = remove_punctuation(test_text)\n",
    "print(f\"متن اصلی: {test_text}\")\n",
    "print(f\"متن بدون علائم نگارشی: {cleaned_text}\")"
   ]
  },
  {
   "cell_type": "code",
   "execution_count": null,
   "id": "7ab17653",
   "metadata": {},
   "outputs": [],
   "source": [
    "# اجرای خط مورد نظر شما\n",
    "df['text_no_punct'] = df['text_lower'].apply(remove_punctuation)\n",
    "\n",
    "# نمایش چند سطر اول برای بررسی\n",
    "print(df[['text_lower', 'text_no_punct']].head())"
   ]
  },
  {
   "cell_type": "code",
   "execution_count": 7,
   "id": "8d113a79",
   "metadata": {},
   "outputs": [
    {
     "name": "stdout",
     "output_type": "stream",
     "text": [
      "متن بدون علائم نگارشی (با regex): این یک متن نمونه با علائم نگارشی\n"
     ]
    }
   ],
   "source": [
    "import re\n",
    "\n",
    "def remove_punctuation_regex(text):\n",
    "    return re.sub(r'[!\"#$%&\\'()*+,-./:;<=>?@[\\]^_`{|}~؟،.]', '', text)\n",
    "\n",
    "test_text = \"این یک متن نمونه با علائم نگارشی!؟،.\"\n",
    "cleaned_text = remove_punctuation_regex(test_text)\n",
    "print(f\"متن بدون علائم نگارشی (با regex): {cleaned_text}\")"
   ]
  },
  {
   "cell_type": "code",
   "execution_count": 8,
   "id": "aee4e912",
   "metadata": {},
   "outputs": [
    {
     "name": "stdout",
     "output_type": "stream",
     "text": [
      "{'happy': 1, 'good': 1, 'great': 1, 'love': 1, 'like': 1, 'best': 1, 'amazing': 1, 'wonderful': 1, 'excellent': 1, 'enjoy': 1, 'fun': 1, 'bad': -1, 'terrible': -1, 'awful': -1, 'hate': -1, 'dislike': -1, 'worst': -1, 'horrible': -1, 'sad': -1, 'angry': -1, 'upset': -1}\n",
      "امتیاز کلمه 'happy': 1\n",
      "امتیاز کلمه 'bad': -1\n",
      "امتیاز کلمه 'neutral': 0\n"
     ]
    }
   ],
   "source": [
    "sentiment_dict = {\n",
    "    'happy': 1,\n",
    "    'good': 1,\n",
    "    'great': 1,\n",
    "    'love': 1,\n",
    "    'like': 1,\n",
    "    'best': 1,\n",
    "    'amazing': 1,\n",
    "    'wonderful': 1,\n",
    "    'excellent': 1,\n",
    "    'enjoy': 1,\n",
    "    'fun': 1,\n",
    "    'bad': -1,\n",
    "    'terrible': -1,\n",
    "    'awful': -1,\n",
    "    'hate': -1,\n",
    "    'dislike': -1,\n",
    "    'worst': -1,\n",
    "    'horrible': -1,\n",
    "    'sad': -1,\n",
    "    'angry': -1,\n",
    "    'upset': -1\n",
    "    # می‌توانید کلمات بیشتری اضافه کنید\n",
    "}\n",
    "\n",
    "print(sentiment_dict)\n",
    "print(f\"امتیاز کلمه 'happy': {sentiment_dict.get('happy')}\")\n",
    "print(f\"امتیاز کلمه 'bad': {sentiment_dict.get('bad')}\")\n",
    "print(f\"امتیاز کلمه 'neutral': {sentiment_dict.get('neutral', 0)}\") # اگر کلمه نباشد 0 برمی‌گرداند"
   ]
  },
  {
   "cell_type": "code",
   "execution_count": null,
   "id": "6460d2e4",
   "metadata": {},
   "outputs": [],
   "source": [
    "def calculate_sentiment_score(text):\n",
    "    words = text.split()\n",
    "    score = 0\n",
    "    for word in words:\n",
    "        if word in sentiment_dict:\n",
    "            score += sentiment_dict[word]\n",
    "    return score\n",
    "\n",
    "# اعمال تابع محاسبه امتیاز بر روی ستون متن بدون علائم نگارشی\n",
    "df['sentiment_score'] = df['text_no_punct'].apply(calculate_sentiment_score)\n",
    "\n",
    "# نمایش چند سطر اول DataFrame به همراه امتیاز احساسی محاسبه شده\n",
    "print(df[['text', 'text_no_punct', 'sentiment_score']].head())"
   ]
  },
  {
   "cell_type": "code",
   "execution_count": null,
   "id": "dac60fdd",
   "metadata": {},
   "outputs": [],
   "source": [
    "def categorize_sentiment(score):\n",
    "    if score > 0:\n",
    "        return 'positive'\n",
    "    elif score < 0:\n",
    "        return 'negative'\n",
    "    else:\n",
    "        return 'neutral'\n",
    "\n",
    "# اعمال تابع دسته‌بندی احساس بر روی ستون امتیاز احساسی\n",
    "df['predicted_sentiment'] = df['sentiment_score'].apply(categorize_sentiment)\n",
    "\n",
    "# نمایش چند سطر اول DataFrame به همراه احساس پیش‌بینی شده\n",
    "print(df[['text', 'sentiment_score', 'predicted_sentiment']].head())\n",
    "\n",
    "# نمایش تعداد نظرات در هر دسته احساسی پیش‌بینی شده\n",
    "print(\"\\nتعداد نظرات در هر دسته احساسی پیش‌بینی شده:\")\n",
    "print(df['predicted_sentiment'].value_counts())"
   ]
  },
  {
   "cell_type": "code",
   "execution_count": null,
   "id": "dd82df33",
   "metadata": {},
   "outputs": [],
   "source": []
  }
 ],
 "metadata": {
  "kernelspec": {
   "display_name": "Python 3",
   "language": "python",
   "name": "python3"
  },
  "language_info": {
   "codemirror_mode": {
    "name": "ipython",
    "version": 3
   },
   "file_extension": ".py",
   "mimetype": "text/x-python",
   "name": "python",
   "nbconvert_exporter": "python",
   "pygments_lexer": "ipython3",
   "version": "3.11.3"
  }
 },
 "nbformat": 4,
 "nbformat_minor": 5
}
