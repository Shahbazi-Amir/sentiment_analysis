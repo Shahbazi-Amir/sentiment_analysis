{
 "cells": [
  {
   "cell_type": "code",
   "execution_count": null,
   "id": "713a5265",
   "metadata": {},
   "outputs": [],
   "source": [
    "import pandas as pd\n",
    "\n",
    "file_path = 'dataset/training.1600000.processed.noemoticon.csv'\n",
    "\n",
    "try:\n",
    "    df = pd.read_csv(file_path, header=None, encoding='latin1')\n",
    "    df.columns = ['sentiment', 'id', 'date', 'query', 'user', 'text']\n",
    "    print(df.head())\n",
    "    print(df.info())\n",
    "except FileNotFoundError:\n",
    "    print(\"this file path is not exists\")\n",
    "except Exception as e:\n",
    "    print(\"unexpected Error\")"
   ]
  },
  {
   "cell_type": "code",
   "execution_count": null,
   "id": "38f42811",
   "metadata": {},
   "outputs": [
    {
     "name": "stdout",
     "output_type": "stream",
     "text": [
      "   sentiment          id                          date     query  \\\n",
      "0          0  1467810672  Mon Apr 06 22:19:49 PDT 2009  NO_QUERY   \n",
      "1          0  1467810917  Mon Apr 06 22:19:53 PDT 2009  NO_QUERY   \n",
      "2          0  1467811184  Mon Apr 06 22:19:57 PDT 2009  NO_QUERY   \n",
      "3          0  1467811193  Mon Apr 06 22:19:57 PDT 2009  NO_QUERY   \n",
      "4          0  1467811372  Mon Apr 06 22:20:00 PDT 2009  NO_QUERY   \n",
      "\n",
      "            user                                               text  \n",
      "0  scotthamilton  is upset that he can't update his Facebook by ...  \n",
      "1       mattycus  @Kenichan I dived many times for the ball. Man...  \n",
      "2        ElleCTF    my whole body feels itchy and like its on fire   \n",
      "3         Karoli  @nationwideclass no, it's not behaving at all....  \n",
      "4       joy_wolf                      @Kwesidei not the whole crew   \n",
      "<class 'pandas.core.frame.DataFrame'>\n",
      "RangeIndex: 1048572 entries, 0 to 1048571\n",
      "Data columns (total 6 columns):\n",
      " #   Column     Non-Null Count    Dtype \n",
      "---  ------     --------------    ----- \n",
      " 0   sentiment  1048572 non-null  int64 \n",
      " 1   id         1048572 non-null  int64 \n",
      " 2   date       1048572 non-null  object\n",
      " 3   query      1048572 non-null  object\n",
      " 4   user       1048572 non-null  object\n",
      " 5   text       1048572 non-null  object\n",
      "dtypes: int64(2), object(4)\n",
      "memory usage: 48.0+ MB\n",
      "None\n",
      "\n",
      "--------------------\n",
      "\n",
      "sentiment\n",
      "0    799996\n",
      "4    248576\n",
      "Name: count, dtype: int64\n",
      "\n",
      "--------------------\n",
      "\n",
      "sentiment     int64\n",
      "id            int64\n",
      "date         object\n",
      "query        object\n",
      "user         object\n",
      "text         object\n",
      "dtype: object\n"
     ]
    }
   ],
   "source": [
    "import pandas as pd\n",
    "\n",
    "file_path = 'dataset/training.1600000.processed.noemoticon.csv'\n",
    "\n",
    "try:\n",
    "    df = pd.read_csv(file_path, header=None, encoding='latin1', skiprows=[0]) \n",
    "    df.columns = ['sentiment', 'id', 'date', 'query', 'user', 'text']\n",
    "    print(df.head())\n",
    "    print(df.info())\n",
    "    print(\"\\n--------------------\\n\")\n",
    "    print(df['sentiment'].value_counts())\n",
    "    print(\"\\n--------------------\\n\")\n",
    "    print(df.dtypes)\n",
    "except FileNotFoundError:\n",
    "    print(\"not found\")\n",
    "except Exception as e:\n",
    "    print(\"unexpected Error\")"
   ]
  },
  {
   "cell_type": "code",
   "execution_count": 13,
   "id": "31e6d784",
   "metadata": {},
   "outputs": [
    {
     "name": "stdout",
     "output_type": "stream",
     "text": [
      "                                                text  \\\n",
      "0  is upset that he can't update his Facebook by ...   \n",
      "1  @Kenichan I dived many times for the ball. Man...   \n",
      "2    my whole body feels itchy and like its on fire    \n",
      "3  @nationwideclass no, it's not behaving at all....   \n",
      "4                      @Kwesidei not the whole crew    \n",
      "\n",
      "                                          text_lower  \n",
      "0  is upset that he can't update his facebook by ...  \n",
      "1  @kenichan i dived many times for the ball. man...  \n",
      "2    my whole body feels itchy and like its on fire   \n",
      "3  @nationwideclass no, it's not behaving at all....  \n",
      "4                      @kwesidei not the whole crew   \n"
     ]
    }
   ],
   "source": [
    "df['text_lower'] = df['text'].str.lower()\n",
    "print(df[['text', 'text_lower']].head())"
   ]
  },
  {
   "cell_type": "code",
   "execution_count": 4,
   "id": "46391a8c",
   "metadata": {},
   "outputs": [
    {
     "name": "stdout",
     "output_type": "stream",
     "text": [
      "!\"#$%&'()*+,-./:;<=>?@[\\]^_`{|}~\n"
     ]
    }
   ],
   "source": [
    "import string\n",
    "print(string.punctuation)"
   ]
  },
  {
   "cell_type": "code",
   "execution_count": 17,
   "id": "767afac1",
   "metadata": {},
   "outputs": [],
   "source": [
    "def remove_punctuation(text):\n",
    "    translator = str.maketrans('', '', string.punctuation)\n",
    "    return text.translate(translator)"
   ]
  },
  {
   "cell_type": "code",
   "execution_count": 18,
   "id": "7ab17653",
   "metadata": {},
   "outputs": [
    {
     "name": "stdout",
     "output_type": "stream",
     "text": [
      "                                          text_lower  \\\n",
      "0  is upset that he can't update his facebook by ...   \n",
      "1  @kenichan i dived many times for the ball. man...   \n",
      "2    my whole body feels itchy and like its on fire    \n",
      "3  @nationwideclass no, it's not behaving at all....   \n",
      "4                      @kwesidei not the whole crew    \n",
      "\n",
      "                                       text_no_punct  \n",
      "0  is upset that he cant update his facebook by t...  \n",
      "1  kenichan i dived many times for the ball manag...  \n",
      "2    my whole body feels itchy and like its on fire   \n",
      "3  nationwideclass no its not behaving at all im ...  \n",
      "4                       kwesidei not the whole crew   \n"
     ]
    }
   ],
   "source": [
    "df['text_no_punct'] = df['text_lower'].apply(remove_punctuation)\n",
    "print(df[['text_lower', 'text_no_punct']].head())"
   ]
  },
  {
   "cell_type": "code",
   "execution_count": 19,
   "id": "8d113a79",
   "metadata": {},
   "outputs": [],
   "source": [
    "import re\n",
    "def remove_punctuation_regex(text):\n",
    "    return re.sub(r'[!\"#$%&\\'()*+,-./:;<=>?@[\\]^_`{|}~؟،.]', '', text)\n"
   ]
  },
  {
   "cell_type": "code",
   "execution_count": 23,
   "id": "aee4e912",
   "metadata": {},
   "outputs": [
    {
     "name": "stdout",
     "output_type": "stream",
     "text": [
      "{'happy': 1, 'good': 1, 'great': 1, 'love': 1, 'like': 1, 'best': 1, 'amazing': 1, 'wonderful': 1, 'excellent': 1, 'enjoy': 1, 'fun': 1, 'bad': -1, 'terrible': -1, 'awful': -1, 'hate': -1, 'dislike': -1, 'worst': -1, 'horrible': -1, 'sad': -1, 'angry': -1, 'upset': -1}\n",
      "امتیاز کلمه 'happy': 1\n",
      "امتیاز کلمه 'bad': -1\n",
      "امتیاز کلمه 'neutral': 0\n"
     ]
    }
   ],
   "source": [
    "sentiment_dict = {\n",
    "    'happy': 1,\n",
    "    'good': 1,\n",
    "    'great': 1,\n",
    "    'love': 1,\n",
    "    'like': 1,\n",
    "    'best': 1,\n",
    "    'amazing': 1,\n",
    "    'wonderful': 1,\n",
    "    'excellent': 1,\n",
    "    'enjoy': 1,\n",
    "    'fun': 1,\n",
    "    'bad': -1,\n",
    "    'terrible': -1,\n",
    "    'awful': -1,\n",
    "    'hate': -1,\n",
    "    'dislike': -1,\n",
    "    'worst': -1,\n",
    "    'horrible': -1,\n",
    "    'sad': -1,\n",
    "    'angry': -1,\n",
    "    'upset': -1\n",
    "    # می‌توانید کلمات بیشتری اضافه کنید\n",
    "}\n",
    "\n",
    "print(sentiment_dict)\n",
    "print(f\"امتیاز کلمه 'happy': {sentiment_dict.get('happy')}\")\n",
    "print(f\"امتیاز کلمه 'bad': {sentiment_dict.get('bad')}\")\n",
    "print(f\"امتیاز کلمه 'neutral': {sentiment_dict.get('neutral', 0)}\") # اگر کلمه نباشد 0 برمی‌گرداند"
   ]
  },
  {
   "cell_type": "code",
   "execution_count": 24,
   "id": "6460d2e4",
   "metadata": {},
   "outputs": [
    {
     "name": "stdout",
     "output_type": "stream",
     "text": [
      "                                                text  \\\n",
      "0  is upset that he can't update his Facebook by ...   \n",
      "1  @Kenichan I dived many times for the ball. Man...   \n",
      "2    my whole body feels itchy and like its on fire    \n",
      "3  @nationwideclass no, it's not behaving at all....   \n",
      "4                      @Kwesidei not the whole crew    \n",
      "\n",
      "                                       text_no_punct  sentiment_score  \n",
      "0  is upset that he cant update his facebook by t...               -1  \n",
      "1  kenichan i dived many times for the ball manag...                0  \n",
      "2    my whole body feels itchy and like its on fire                 1  \n",
      "3  nationwideclass no its not behaving at all im ...                0  \n",
      "4                       kwesidei not the whole crew                 0  \n"
     ]
    }
   ],
   "source": [
    "def calculate_sentiment_score(text):\n",
    "    words = text.split()\n",
    "    score = 0\n",
    "    for word in words:\n",
    "        if word in sentiment_dict:\n",
    "            score += sentiment_dict[word]\n",
    "    return score\n",
    "\n",
    "df['sentiment_score'] = df['text_no_punct'].apply(calculate_sentiment_score)\n",
    "\n",
    "print(df[['text', 'text_no_punct', 'sentiment_score']].head())"
   ]
  },
  {
   "cell_type": "code",
   "execution_count": null,
   "id": "dac60fdd",
   "metadata": {},
   "outputs": [],
   "source": [
    "def categorize_sentiment(score):\n",
    "    if score > 0:\n",
    "        return 'positive'\n",
    "    elif score < 0:\n",
    "        return 'negative'\n",
    "    else:\n",
    "        return 'neutral'\n",
    "\n",
    "df['predicted_sentiment'] = df['sentiment_score'].apply(categorize_sentiment)\n",
    "\n",
    "print(df[['text', 'sentiment_score', 'predicted_sentiment']].head())\n",
    "\n",
    "print(\"\\n number of comment in classes\")\n",
    "print(df['predicted_sentiment'].value_counts())"
   ]
  },
  {
   "cell_type": "code",
   "execution_count": 37,
   "id": "dd82df33",
   "metadata": {},
   "outputs": [
    {
     "name": "stdout",
     "output_type": "stream",
     "text": [
      "column s name\n",
      "Index(['sentiment', 'id', 'date', 'query', 'user', 'text', 'text_lower',\n",
      "       'text_no_punct', 'sentiment_score', 'predicted_sentiment'],\n",
      "      dtype='object')\n",
      "\n",
      " unique in 'sentiment':\n",
      "[0 4]\n",
      "\n",
      " number of Colum in 'sentiment':\n",
      "sentiment\n",
      "0    799996\n",
      "4    248576\n",
      "Name: count, dtype: int64\n"
     ]
    }
   ],
   "source": [
    "print(\"column s name\")\n",
    "print(df.columns)\n",
    "\n",
    "print(\"\\n unique in 'sentiment':\")\n",
    "print(df['sentiment'].unique())\n",
    "\n",
    "print(\"\\n number of Colum in 'sentiment':\")\n",
    "print(df['sentiment'].value_counts())"
   ]
  },
  {
   "cell_type": "code",
   "execution_count": 35,
   "id": "af33794d",
   "metadata": {},
   "outputs": [
    {
     "data": {
      "image/png": "[encoded data removed]",
      "text/plain": [
       "<Figure size 1000x600 with 1 Axes>"
      ]
     },
     "metadata": {},
     "output_type": "display_data"
    }
   ],
   "source": [
    "import matplotlib.pyplot as plt\n",
    "\n",
    "plt.figure(figsize=(10, 6))\n",
    "\n",
    "plt.hist(df['sentiment_score'], bins=20, edgecolor='black')\n",
    "\n",
    "plt.title('distribution')\n",
    "plt.xlabel('score')\n",
    "plt.ylabel('number of comment')\n",
    "\n",
    "plt.grid(True)\n",
    "plt.show()"
   ]
  },
  {
   "cell_type": "code",
   "execution_count": null,
   "id": "998a1ec9",
   "metadata": {},
   "outputs": [
    {
     "name": "stdout",
     "output_type": "stream",
     "text": [
      "\n",
      "نمایش چند سطر اول دیتافریم با ستون 'actual_sentiment':\n",
      "   sentiment actual_sentiment predicted_sentiment\n",
      "0          0         negative            negative\n",
      "1          0         negative             neutral\n",
      "2          0         negative            positive\n",
      "3          0         negative             neutral\n",
      "4          0         negative             neutral\n",
      "\n",
      "تعداد هر یک از برچسب‌های واقعی متنی:\n",
      "actual_sentiment\n",
      "negative    799996\n",
      "positive    248576\n",
      "Name: count, dtype: int64\n"
     ]
    }
   ],
   "source": [
    "sentiment_mapping = {0: 'negative', 4: 'positive'}\n",
    "\n",
    "df['actual_sentiment'] = df['sentiment'].map(sentiment_mapping)\n",
    "\n",
    "print(\"\\n show rows'actual_sentiment':\")\n",
    "print(df[['sentiment', 'actual_sentiment', 'predicted_sentiment']].head())\n",
    "\n",
    "print(\"\\n number of classes\")\n",
    "print(df['actual_sentiment'].value_counts())"
   ]
  },
  {
   "cell_type": "code",
   "execution_count": 55,
   "id": "9a986f0d",
   "metadata": {},
   "outputs": [
    {
     "data": {
      "text/plain": [
       "<Axes: xlabel='c', ylabel='n of NaN'>"
      ]
     },
     "execution_count": 55,
     "metadata": {},
     "output_type": "execute_result"
    },
    {
     "data": {
      "image/png": "[encoded data removed]",
      "text/plain": [
       "<Figure size 800x500 with 1 Axes>"
      ]
     },
     "metadata": {},
     "output_type": "display_data"
    }
   ],
   "source": [
    "import matplotlib.pyplot as plt\n",
    "import pandas as pd\n",
    "import seaborn as sns\n",
    "\n",
    "nan_counts = pd.DataFrame({\n",
    "    'c': ['actual_sentiment', 'predicted_sentiment'],\n",
    "    'n of NaN': [df['actual_sentiment'].isnull().sum(), df['predicted_sentiment'].isnull().sum()]\n",
    "})\n",
    "\n",
    "plt.figure(figsize=(8, 5))\n",
    "\n",
    "sns.barplot(x='c', y='n of NaN', data=nan_counts, hue='c', palette='viridis', legend=False)\n"
   ]
  },
  {
   "cell_type": "code",
   "execution_count": 56,
   "id": "2e2d6d3f",
   "metadata": {},
   "outputs": [
    {
     "name": "stdout",
     "output_type": "stream",
     "text": [
      "0\n",
      "0\n",
      "1048572\n"
     ]
    }
   ],
   "source": [
    "print(df['actual_sentiment'].isnull().sum())\n",
    "\n",
    "df_evaluated = df.dropna(subset=['actual_sentiment', 'predicted_sentiment'])\n",
    "\n",
    "print(df_evaluated['actual_sentiment'].isnull().sum())\n",
    "\n",
    "print(len(df_evaluated))"
   ]
  },
  {
   "cell_type": "code",
   "execution_count": 60,
   "id": "9d86e149",
   "metadata": {},
   "outputs": [
    {
     "name": "stdout",
     "output_type": "stream",
     "text": [
      "accuracy : 0.12\n"
     ]
    }
   ],
   "source": [
    "from sklearn.metrics import accuracy_score\n",
    "\n",
    "accuracy = accuracy_score(df_evaluated['actual_sentiment'], df_evaluated['predicted_sentiment'])\n",
    "\n",
    "print(f\"accuracy : {accuracy:.2f}\")"
   ]
  },
  {
   "cell_type": "code",
   "execution_count": 62,
   "id": "491613ff",
   "metadata": {},
   "outputs": [
    {
     "data": {
      "text/plain": [
       "<BarContainer object of 1 artists>"
      ]
     },
     "execution_count": 62,
     "metadata": {},
     "output_type": "execute_result"
    },
    {
     "data": {
      "image/png": "[encoded data removed]",
      "text/plain": [
       "<Figure size 600x400 with 1 Axes>"
      ]
     },
     "metadata": {},
     "output_type": "display_data"
    }
   ],
   "source": [
    "import matplotlib.pyplot as plt\n",
    "\n",
    "accuracy_value = accuracy * 100  \n",
    "labels = ['System Accuracy']\n",
    "values = [accuracy_value]\n",
    "\n",
    "plt.figure(figsize=(6, 4))\n",
    "\n",
    "plt.bar(labels, values, color='skyblue')"
   ]
  }
 ],
 "metadata": {
  "kernelspec": {
   "display_name": "Python 3",
   "language": "python",
   "name": "python3"
  },
  "language_info": {
   "codemirror_mode": {
    "name": "ipython",
    "version": 3
   },
   "file_extension": ".py",
   "mimetype": "text/x-python",
   "name": "python",
   "nbconvert_exporter": "python",
   "pygments_lexer": "ipython3",
   "version": "3.11.3"
  }
 },
 "nbformat": 4,
 "nbformat_minor": 5
}
